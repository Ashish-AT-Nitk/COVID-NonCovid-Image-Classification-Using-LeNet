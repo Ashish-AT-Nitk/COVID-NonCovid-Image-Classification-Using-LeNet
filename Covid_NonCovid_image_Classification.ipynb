{
 "cells": [
  {
   "cell_type": "code",
   "execution_count": 27,
   "id": "4007ba69",
   "metadata": {},
   "outputs": [],
   "source": [
    "import numpy as np\n",
    "import matplotlib.pyplot as plt\n",
    "import os\n",
    "from tqdm import tqdm\n",
    "import matplotlib.image as mpimg\n",
    "import random\n",
    "\n",
    "CATEGORIES = [\"COVID\", \"non-COVID\"]"
   ]
  },
  {
   "cell_type": "markdown",
   "id": "48c88c88",
   "metadata": {},
   "source": [
    "# Training dataset preparation"
   ]
  },
  {
   "cell_type": "code",
   "execution_count": 28,
   "id": "b533a782",
   "metadata": {},
   "outputs": [
    {
     "name": "stderr",
     "output_type": "stream",
     "text": [
      "100%|██████████| 700/700 [00:00<00:00, 1905.82it/s]\n",
      "100%|██████████| 700/700 [00:00<00:00, 1977.67it/s]\n"
     ]
    }
   ],
   "source": [
    "training_data = []\n",
    "DATADIR = \"Train\"\n",
    "def create_training_data():\n",
    "    for category in CATEGORIES:  \n",
    "\n",
    "        path = os.path.join(DATADIR,category) \n",
    "        class_num = CATEGORIES.index(category)  \n",
    "\n",
    "        for img in tqdm(os.listdir(path)):  \n",
    "            try:\n",
    "                img_array = mpimg.imread(os.path.join(path,img)) \n",
    "               # img_array = img_array.resize(50, 50)\n",
    "                #print(img_array.shape)\n",
    "                training_data.append([img_array, class_num])\n",
    "                #print(img_array.shape)\n",
    "            except Exception as e:  \n",
    "                pass\n",
    "            \n",
    "\n",
    "create_training_data()"
   ]
  },
  {
   "cell_type": "code",
   "execution_count": 29,
   "id": "81ee43a2",
   "metadata": {},
   "outputs": [],
   "source": [
    "random.shuffle(training_data)"
   ]
  },
  {
   "cell_type": "code",
   "execution_count": 30,
   "id": "163547d6",
   "metadata": {},
   "outputs": [],
   "source": [
    "xtrain = []\n",
    "ytrain = []\n",
    "for features,label in training_data:\n",
    "    xtrain.append(features)\n",
    "    ytrain.append(label)"
   ]
  },
  {
   "cell_type": "code",
   "execution_count": 31,
   "id": "53cb315c",
   "metadata": {},
   "outputs": [],
   "source": [
    "xtrain = np.asarray(xtrain) \n",
    "ytrain = np.asarray(ytrain) \n",
    " "
   ]
  },
  {
   "cell_type": "code",
   "execution_count": 32,
   "id": "bf2e8724",
   "metadata": {},
   "outputs": [
    {
     "name": "stdout",
     "output_type": "stream",
     "text": [
      "<class 'numpy.ndarray'>\n",
      "<class 'numpy.ndarray'>\n"
     ]
    }
   ],
   "source": [
    "print(type(xtrain))\n",
    "print(type(ytrain))\n"
   ]
  },
  {
   "cell_type": "code",
   "execution_count": 33,
   "id": "33e1c27c",
   "metadata": {},
   "outputs": [
    {
     "name": "stdout",
     "output_type": "stream",
     "text": [
      "uint8\n"
     ]
    }
   ],
   "source": [
    "ytrain = ytrain.astype('uint8')\n",
    "print(ytrain.dtype)\n"
   ]
  },
  {
   "cell_type": "code",
   "execution_count": 34,
   "id": "a0726c91",
   "metadata": {},
   "outputs": [
    {
     "name": "stdout",
     "output_type": "stream",
     "text": [
      "(1400, 100, 100)\n",
      "(1400,)\n"
     ]
    }
   ],
   "source": [
    "print(xtrain.shape)\n",
    "print(ytrain.shape)"
   ]
  },
  {
   "cell_type": "code",
   "execution_count": null,
   "id": "17a47ef9",
   "metadata": {},
   "outputs": [],
   "source": [
    "\n"
   ]
  },
  {
   "cell_type": "code",
   "execution_count": 35,
   "id": "38184bc1",
   "metadata": {},
   "outputs": [
    {
     "name": "stdout",
     "output_type": "stream",
     "text": [
      "(1400, 100, 100, 1)\n"
     ]
    }
   ],
   "source": [
    "xtrain = xtrain.reshape(xtrain.shape[0],100,100,1)\n",
    "print(xtrain.shape)\n"
   ]
  },
  {
   "cell_type": "code",
   "execution_count": 36,
   "id": "b5a20b02",
   "metadata": {},
   "outputs": [
    {
     "name": "stdout",
     "output_type": "stream",
     "text": [
      "[1. 0.]\n"
     ]
    }
   ],
   "source": [
    "from keras.utils import to_categorical\n",
    "ytrain =  to_categorical(ytrain)\n",
    "print(ytrain[0])"
   ]
  },
  {
   "cell_type": "markdown",
   "id": "427a60b9",
   "metadata": {},
   "source": [
    "# Test dataset preparatoin "
   ]
  },
  {
   "cell_type": "code",
   "execution_count": 37,
   "id": "172e906a",
   "metadata": {},
   "outputs": [
    {
     "name": "stderr",
     "output_type": "stream",
     "text": [
      "100%|██████████| 302/302 [00:00<00:00, 2257.35it/s]\n",
      "100%|██████████| 284/284 [00:00<00:00, 1863.88it/s]\n"
     ]
    }
   ],
   "source": [
    "testing_data = []\n",
    "DATADIR = \"Test\"\n",
    "\n",
    "def create_training_data():\n",
    "    for category in CATEGORIES:  \n",
    "\n",
    "        path = os.path.join(DATADIR,category) \n",
    "        class_num = CATEGORIES.index(category)  \n",
    "\n",
    "        for img in tqdm(os.listdir(path)):  \n",
    "            try:\n",
    "                img_array = mpimg.imread(os.path.join(path,img)) \n",
    "               # img_array = img_array.resize(50, 50)\n",
    "                #print(img_array.shape)\n",
    "                testing_data.append([img_array, class_num])\n",
    "                #print(img_array.shape)\n",
    "            except Exception as e:  \n",
    "                pass\n",
    "            \n",
    "\n",
    "create_training_data()"
   ]
  },
  {
   "cell_type": "code",
   "execution_count": 38,
   "id": "60e71119",
   "metadata": {},
   "outputs": [],
   "source": [
    "random.shuffle(testing_data)"
   ]
  },
  {
   "cell_type": "code",
   "execution_count": 39,
   "id": "a394ce6b",
   "metadata": {},
   "outputs": [],
   "source": [
    "xtest = []\n",
    "ytest = []\n",
    "for features,label in testing_data:\n",
    "    xtest.append(features)\n",
    "    ytest.append(label)"
   ]
  },
  {
   "cell_type": "code",
   "execution_count": 40,
   "id": "12a3d927",
   "metadata": {},
   "outputs": [],
   "source": [
    "xtest  = np.asarray(xtest) \n",
    "ytest  = np.asarray(ytest)"
   ]
  },
  {
   "cell_type": "code",
   "execution_count": 41,
   "id": "97cf442f",
   "metadata": {},
   "outputs": [
    {
     "name": "stdout",
     "output_type": "stream",
     "text": [
      "<class 'numpy.ndarray'>\n",
      "<class 'numpy.ndarray'>\n"
     ]
    }
   ],
   "source": [
    "print(type(xtest))\n",
    "print(type(ytest))"
   ]
  },
  {
   "cell_type": "code",
   "execution_count": 42,
   "id": "263a4e35",
   "metadata": {},
   "outputs": [
    {
     "name": "stdout",
     "output_type": "stream",
     "text": [
      "uint8\n"
     ]
    }
   ],
   "source": [
    "ytest = ytest.astype('uint8')\n",
    "print(ytest.dtype)"
   ]
  },
  {
   "cell_type": "code",
   "execution_count": 43,
   "id": "15ebfde5",
   "metadata": {},
   "outputs": [
    {
     "name": "stdout",
     "output_type": "stream",
     "text": [
      "(586, 100, 100)\n",
      "(586,)\n"
     ]
    }
   ],
   "source": [
    "print(xtest.shape)\n",
    "print(ytest.shape)"
   ]
  },
  {
   "cell_type": "code",
   "execution_count": 44,
   "id": "8ea64f16",
   "metadata": {},
   "outputs": [
    {
     "name": "stdout",
     "output_type": "stream",
     "text": [
      "(586, 100, 100, 1)\n"
     ]
    }
   ],
   "source": [
    "xtest =  xtest.reshape(xtest.shape[0],100,100,1)\n",
    "print(xtest.shape)"
   ]
  },
  {
   "cell_type": "code",
   "execution_count": 45,
   "id": "a8a66ded",
   "metadata": {},
   "outputs": [
    {
     "name": "stdout",
     "output_type": "stream",
     "text": [
      "[1. 0.]\n"
     ]
    }
   ],
   "source": [
    "ytest  =  to_categorical(ytest)\n",
    "print(ytest[0])"
   ]
  },
  {
   "cell_type": "markdown",
   "id": "8d4fbe6b",
   "metadata": {},
   "source": [
    "# Normalization"
   ]
  },
  {
   "cell_type": "code",
   "execution_count": 46,
   "id": "0770f6cb",
   "metadata": {},
   "outputs": [
    {
     "name": "stdout",
     "output_type": "stream",
     "text": [
      "0.0 0.0\n",
      "1.0 1.0\n",
      "0.0 0.0\n",
      "0.654997\n",
      "0.26767886\n",
      "1.2888691 1.2888691\n",
      "-2.446951 -2.446951\n"
     ]
    }
   ],
   "source": [
    "print (np.min(xtrain),np.min(xtest))\n",
    "\n",
    "print (np.max(ytrain),np.max(ytest)) \n",
    "print (np.min(ytrain),np.min(ytest))\n",
    "\n",
    "mean = np.mean(xtrain) \n",
    "std = np.std(xtrain)\n",
    "\n",
    "print(mean) \n",
    "print(std)\n",
    "\n",
    "xtrain -= mean \n",
    "xtrain /= std\n",
    "\n",
    "xtest -= mean \n",
    "xtest /= std \n",
    "print (np.max(xtrain),np.max(xtest))\n",
    "print (np.min(xtrain),np.min(xtest))"
   ]
  },
  {
   "cell_type": "markdown",
   "id": "b0417a8e",
   "metadata": {},
   "source": [
    "# LeNet"
   ]
  },
  {
   "cell_type": "code",
   "execution_count": 47,
   "id": "01103439",
   "metadata": {},
   "outputs": [],
   "source": [
    "from keras.layers import Dropout\n"
   ]
  },
  {
   "cell_type": "code",
   "execution_count": 48,
   "id": "9c049a2a",
   "metadata": {},
   "outputs": [],
   "source": [
    "import keras\n",
    "from keras import models\n",
    "from keras import layers\n",
    "import tensorflow as tf"
   ]
  },
  {
   "cell_type": "code",
   "execution_count": 49,
   "id": "feda0599",
   "metadata": {},
   "outputs": [
    {
     "name": "stdout",
     "output_type": "stream",
     "text": [
      "Model: \"sequential\"\n",
      "_________________________________________________________________\n",
      "Layer (type)                 Output Shape              Param #   \n",
      "=================================================================\n",
      "conv2d (Conv2D)              (None, 96, 96, 6)         156       \n",
      "_________________________________________________________________\n",
      "dropout (Dropout)            (None, 96, 96, 6)         0         \n",
      "_________________________________________________________________\n",
      "max_pooling2d (MaxPooling2D) (None, 48, 48, 6)         0         \n",
      "_________________________________________________________________\n",
      "conv2d_1 (Conv2D)            (None, 22, 22, 16)        2416      \n",
      "_________________________________________________________________\n",
      "max_pooling2d_1 (MaxPooling2 (None, 11, 11, 16)        0         \n",
      "_________________________________________________________________\n",
      "flatten (Flatten)            (None, 1936)              0         \n",
      "_________________________________________________________________\n",
      "dense (Dense)                (None, 120)               232440    \n",
      "_________________________________________________________________\n",
      "dense_1 (Dense)              (None, 84)                10164     \n",
      "_________________________________________________________________\n",
      "dense_2 (Dense)              (None, 2)                 170       \n",
      "=================================================================\n",
      "Total params: 245,346\n",
      "Trainable params: 245,346\n",
      "Non-trainable params: 0\n",
      "_________________________________________________________________\n"
     ]
    }
   ],
   "source": [
    "model = models.Sequential()\n",
    "\n",
    "model.add(layers.Conv2D(6, (5,5), input_shape=(100,100,1), activation='relu', strides=(1,1), padding='valid'))\n",
    "model.add(Dropout(0.2))\n",
    "\n",
    "model.add(layers.MaxPooling2D(pool_size=(2,2), strides=(2,2)))\n",
    "\n",
    "model.add(layers.Conv2D(16, (5,5),activation='relu', strides=(2,2), padding='valid'))\n",
    "\n",
    "\n",
    "model.add(layers.MaxPooling2D(pool_size=(2,2), strides=(2,2)))\n",
    "\n",
    "model.add(layers.Flatten())\n",
    "\n",
    "model.add(layers.Dense(120, activation='relu'))\n",
    "model.add(layers.Dense(84, activation='relu'))\n",
    "\n",
    "model.add(layers.Dense(2, activation='sigmoid'))\n",
    "\n",
    "model.summary()"
   ]
  },
  {
   "cell_type": "code",
   "execution_count": 50,
   "id": "98785509",
   "metadata": {
    "scrolled": true
   },
   "outputs": [
    {
     "name": "stdout",
     "output_type": "stream",
     "text": [
      "Epoch 1/50\n",
      "35/35 [==============================] - 6s 127ms/step - loss: 0.6552 - accuracy: 0.6180 - val_loss: 0.6198 - val_accuracy: 0.6500\n",
      "Epoch 2/50\n",
      "35/35 [==============================] - 4s 107ms/step - loss: 0.5360 - accuracy: 0.7479 - val_loss: 0.6715 - val_accuracy: 0.6143\n",
      "Epoch 3/50\n",
      "35/35 [==============================] - 4s 105ms/step - loss: 0.4843 - accuracy: 0.7696 - val_loss: 0.5866 - val_accuracy: 0.6893\n",
      "Epoch 4/50\n",
      "35/35 [==============================] - 4s 122ms/step - loss: 0.4199 - accuracy: 0.8241 - val_loss: 0.4587 - val_accuracy: 0.7929\n",
      "Epoch 5/50\n",
      "35/35 [==============================] - 6s 165ms/step - loss: 0.4262 - accuracy: 0.8073 - val_loss: 0.4914 - val_accuracy: 0.7500\n",
      "Epoch 6/50\n",
      "35/35 [==============================] - 5s 135ms/step - loss: 0.3928 - accuracy: 0.8319 - val_loss: 0.4001 - val_accuracy: 0.8250\n",
      "Epoch 7/50\n",
      "35/35 [==============================] - 4s 115ms/step - loss: 0.3458 - accuracy: 0.8525 - val_loss: 0.4226 - val_accuracy: 0.8000\n",
      "Epoch 8/50\n",
      "35/35 [==============================] - 4s 113ms/step - loss: 0.3740 - accuracy: 0.8233 - val_loss: 0.3866 - val_accuracy: 0.8321\n",
      "Epoch 9/50\n",
      "35/35 [==============================] - 4s 110ms/step - loss: 0.2938 - accuracy: 0.8818 - val_loss: 0.4163 - val_accuracy: 0.7857\n",
      "Epoch 10/50\n",
      "35/35 [==============================] - 4s 112ms/step - loss: 0.2841 - accuracy: 0.8836 - val_loss: 0.6188 - val_accuracy: 0.7000\n",
      "Epoch 11/50\n",
      "35/35 [==============================] - 4s 119ms/step - loss: 0.2883 - accuracy: 0.8752 - val_loss: 0.3529 - val_accuracy: 0.8393\n",
      "Epoch 12/50\n",
      "35/35 [==============================] - 4s 124ms/step - loss: 0.2534 - accuracy: 0.9002 - val_loss: 0.3341 - val_accuracy: 0.8500\n",
      "Epoch 13/50\n",
      "35/35 [==============================] - 4s 106ms/step - loss: 0.2105 - accuracy: 0.9249 - val_loss: 0.3299 - val_accuracy: 0.8643\n",
      "Epoch 14/50\n",
      "35/35 [==============================] - 4s 105ms/step - loss: 0.2282 - accuracy: 0.9124 - val_loss: 0.7021 - val_accuracy: 0.6571\n",
      "Epoch 15/50\n",
      "35/35 [==============================] - 4s 107ms/step - loss: 0.2940 - accuracy: 0.8728 - val_loss: 0.3331 - val_accuracy: 0.8393\n",
      "Epoch 16/50\n",
      "35/35 [==============================] - 4s 107ms/step - loss: 0.1947 - accuracy: 0.9252 - val_loss: 0.2983 - val_accuracy: 0.8571\n",
      "Epoch 17/50\n",
      "35/35 [==============================] - 4s 105ms/step - loss: 0.1744 - accuracy: 0.9326 - val_loss: 0.3611 - val_accuracy: 0.8214\n",
      "Epoch 18/50\n",
      "35/35 [==============================] - 4s 105ms/step - loss: 0.1645 - accuracy: 0.9371 - val_loss: 0.3504 - val_accuracy: 0.8286\n",
      "Epoch 19/50\n",
      "35/35 [==============================] - 4s 107ms/step - loss: 0.2342 - accuracy: 0.9089 - val_loss: 0.3296 - val_accuracy: 0.8393\n",
      "Epoch 20/50\n",
      "35/35 [==============================] - 4s 106ms/step - loss: 0.1683 - accuracy: 0.9327 - val_loss: 0.2772 - val_accuracy: 0.8607\n",
      "Epoch 21/50\n",
      "35/35 [==============================] - 4s 105ms/step - loss: 0.1421 - accuracy: 0.9556 - val_loss: 0.2802 - val_accuracy: 0.8893\n",
      "Epoch 22/50\n",
      "35/35 [==============================] - 4s 104ms/step - loss: 0.1510 - accuracy: 0.9401 - val_loss: 0.5917 - val_accuracy: 0.7643\n",
      "Epoch 23/50\n",
      "35/35 [==============================] - 4s 119ms/step - loss: 0.1519 - accuracy: 0.9413 - val_loss: 0.3615 - val_accuracy: 0.8357\n",
      "Epoch 24/50\n",
      "35/35 [==============================] - 4s 126ms/step - loss: 0.0873 - accuracy: 0.9715 - val_loss: 0.2899 - val_accuracy: 0.8571\n",
      "Epoch 25/50\n",
      "35/35 [==============================] - 4s 114ms/step - loss: 0.1155 - accuracy: 0.9671 - val_loss: 0.2846 - val_accuracy: 0.8679\n",
      "Epoch 26/50\n",
      "35/35 [==============================] - 4s 107ms/step - loss: 0.1018 - accuracy: 0.9696 - val_loss: 0.4683 - val_accuracy: 0.7714\n",
      "Epoch 27/50\n",
      "35/35 [==============================] - 4s 109ms/step - loss: 0.2185 - accuracy: 0.9247 - val_loss: 0.2741 - val_accuracy: 0.8964\n",
      "Epoch 28/50\n",
      "35/35 [==============================] - 4s 120ms/step - loss: 0.0827 - accuracy: 0.9782 - val_loss: 0.2550 - val_accuracy: 0.9036\n",
      "Epoch 29/50\n",
      "35/35 [==============================] - 4s 110ms/step - loss: 0.0642 - accuracy: 0.9797 - val_loss: 0.2520 - val_accuracy: 0.9036\n",
      "Epoch 30/50\n",
      "35/35 [==============================] - 5s 138ms/step - loss: 0.0583 - accuracy: 0.9844 - val_loss: 0.2694 - val_accuracy: 0.8821\n",
      "Epoch 31/50\n",
      "35/35 [==============================] - 5s 132ms/step - loss: 0.0751 - accuracy: 0.9806 - val_loss: 0.2648 - val_accuracy: 0.8821\n",
      "Epoch 32/50\n",
      "35/35 [==============================] - 4s 106ms/step - loss: 0.0765 - accuracy: 0.9945 - val_loss: 0.2619 - val_accuracy: 0.9107\n",
      "Epoch 33/50\n",
      "35/35 [==============================] - 5s 122ms/step - loss: 0.0441 - accuracy: 0.9940 - val_loss: 0.2599 - val_accuracy: 0.9036\n",
      "Epoch 34/50\n",
      "35/35 [==============================] - 5s 131ms/step - loss: 0.0424 - accuracy: 0.9940 - val_loss: 0.2618 - val_accuracy: 0.9036\n",
      "Epoch 35/50\n",
      "35/35 [==============================] - 5s 131ms/step - loss: 0.0305 - accuracy: 0.9978 - val_loss: 0.2570 - val_accuracy: 0.9143\n",
      "Epoch 36/50\n",
      "35/35 [==============================] - 4s 115ms/step - loss: 0.0268 - accuracy: 0.9951 - val_loss: 0.2502 - val_accuracy: 0.9143\n",
      "Epoch 37/50\n",
      "35/35 [==============================] - 4s 128ms/step - loss: 0.0211 - accuracy: 0.9975 - val_loss: 0.2659 - val_accuracy: 0.9036\n",
      "Epoch 38/50\n",
      "35/35 [==============================] - 5s 136ms/step - loss: 0.0218 - accuracy: 0.9985 - val_loss: 0.2667 - val_accuracy: 0.9107\n",
      "Epoch 39/50\n",
      "35/35 [==============================] - 5s 146ms/step - loss: 0.0186 - accuracy: 0.9980 - val_loss: 0.2599 - val_accuracy: 0.9036\n",
      "Epoch 40/50\n",
      "35/35 [==============================] - 4s 127ms/step - loss: 0.0151 - accuracy: 1.0000 - val_loss: 0.2503 - val_accuracy: 0.9214\n",
      "Epoch 41/50\n",
      "35/35 [==============================] - 5s 139ms/step - loss: 0.0139 - accuracy: 1.0000 - val_loss: 0.2579 - val_accuracy: 0.9179\n",
      "Epoch 42/50\n",
      "35/35 [==============================] - 5s 154ms/step - loss: 0.0099 - accuracy: 1.0000 - val_loss: 0.2645 - val_accuracy: 0.9179\n",
      "Epoch 43/50\n",
      "35/35 [==============================] - 6s 171ms/step - loss: 0.0105 - accuracy: 0.9997 - val_loss: 0.2608 - val_accuracy: 0.9143\n",
      "Epoch 44/50\n",
      "35/35 [==============================] - 6s 177ms/step - loss: 0.0090 - accuracy: 0.9999 - val_loss: 0.2812 - val_accuracy: 0.9036\n",
      "Epoch 45/50\n",
      "35/35 [==============================] - 5s 138ms/step - loss: 0.0084 - accuracy: 1.0000 - val_loss: 0.2632 - val_accuracy: 0.9179\n",
      "Epoch 46/50\n",
      "35/35 [==============================] - 5s 142ms/step - loss: 0.0079 - accuracy: 1.0000 - val_loss: 0.2739 - val_accuracy: 0.9107\n",
      "Epoch 47/50\n",
      "35/35 [==============================] - 6s 159ms/step - loss: 0.0063 - accuracy: 1.0000 - val_loss: 0.2678 - val_accuracy: 0.9179\n",
      "Epoch 48/50\n",
      "35/35 [==============================] - 5s 136ms/step - loss: 0.0060 - accuracy: 1.0000 - val_loss: 0.2712 - val_accuracy: 0.9214\n",
      "Epoch 49/50\n",
      "35/35 [==============================] - 5s 132ms/step - loss: 0.0070 - accuracy: 1.0000 - val_loss: 0.2696 - val_accuracy: 0.9214\n",
      "Epoch 50/50\n",
      "35/35 [==============================] - 5s 138ms/step - loss: 0.0061 - accuracy: 1.0000 - val_loss: 0.2682 - val_accuracy: 0.9179\n"
     ]
    }
   ],
   "source": [
    "model.compile(loss=\"categorical_crossentropy\", optimizer=\"sgd\", metrics=['accuracy'])\n",
    "history=model.fit(xtrain, ytrain, validation_split=(0.2), batch_size=32,epochs=50, verbose=1)"
   ]
  },
  {
   "cell_type": "markdown",
   "id": "a839e6ab",
   "metadata": {},
   "source": [
    "# Evaluation"
   ]
  },
  {
   "cell_type": "code",
   "execution_count": 51,
   "id": "6d9833e1",
   "metadata": {},
   "outputs": [
    {
     "name": "stdout",
     "output_type": "stream",
     "text": [
      "19/19 [==============================] - 1s 33ms/step - loss: 1.7792 - accuracy: 0.6041\n"
     ]
    },
    {
     "data": {
      "text/plain": [
       "[1.7791595458984375, 0.6040955781936646]"
      ]
     },
     "execution_count": 51,
     "metadata": {},
     "output_type": "execute_result"
    }
   ],
   "source": [
    "model.evaluate(xtest,ytest)"
   ]
  },
  {
   "cell_type": "code",
   "execution_count": 52,
   "id": "ce45c94c",
   "metadata": {},
   "outputs": [
    {
     "name": "stdout",
     "output_type": "stream",
     "text": [
      "19/19 [==============================] - 1s 33ms/step - loss: 1.7792 - accuracy: 0.6041\n",
      "1.7791595458984375\n",
      "0.6040955781936646\n"
     ]
    }
   ],
   "source": [
    "test_loss,test_acc=model.evaluate(xtest,ytest)\n",
    "print(test_loss)\n",
    "print(test_acc)"
   ]
  },
  {
   "cell_type": "code",
   "execution_count": 53,
   "id": "59d09474",
   "metadata": {},
   "outputs": [],
   "source": [
    "train_loss = history.history['loss']\n",
    "train_acc = history.history['accuracy']\n",
    "val_loss = history.history['val_loss']\n",
    "val_acc = history.history['val_accuracy']\n",
    "xc=range(len(train_loss))"
   ]
  },
  {
   "cell_type": "code",
   "execution_count": 54,
   "id": "49833e96",
   "metadata": {},
   "outputs": [
    {
     "data": {
      "text/plain": [
       "<matplotlib.legend.Legend at 0x7fb15403b460>"
      ]
     },
     "execution_count": 54,
     "metadata": {},
     "output_type": "execute_result"
    },
    {
     "data": {
      "image/png": "[encoded data removed]",
      "text/plain": [
       "<Figure size 432x288 with 1 Axes>"
      ]
     },
     "metadata": {
      "needs_background": "light"
     },
     "output_type": "display_data"
    }
   ],
   "source": [
    "import matplotlib.pyplot as plt\n",
    "%matplotlib inline\n",
    "plt.plot(xc, train_loss)\n",
    "plt.plot(xc, val_loss)\n",
    "plt.xlabel(\"Epoch\")\n",
    "plt.ylabel(\"Loss\")\n",
    "plt.legend(['train','val'],loc=4)"
   ]
  },
  {
   "cell_type": "code",
   "execution_count": 55,
   "id": "b7bae976",
   "metadata": {},
   "outputs": [
    {
     "data": {
      "text/plain": [
       "<matplotlib.legend.Legend at 0x7fb13443ea90>"
      ]
     },
     "execution_count": 55,
     "metadata": {},
     "output_type": "execute_result"
    },
    {
     "data": {
      "image/png": "[encoded data removed]",
      "text/plain": [
       "<Figure size 432x288 with 1 Axes>"
      ]
     },
     "metadata": {
      "needs_background": "light"
     },
     "output_type": "display_data"
    }
   ],
   "source": [
    "import matplotlib.pyplot as plt\n",
    "%matplotlib inline\n",
    "plt.plot(xc, train_acc)\n",
    "plt.plot(xc, val_acc)\n",
    "plt.xlabel(\"Epoch\")\n",
    "plt.ylabel(\"Accuracy\")\n",
    "plt.legend(['train','val'],loc=4)"
   ]
  },
  {
   "cell_type": "code",
   "execution_count": 56,
   "id": "36fcdae8",
   "metadata": {},
   "outputs": [
    {
     "name": "stdout",
     "output_type": "stream",
     "text": [
      "1 Actual is  [1. 0.] Predicted is 1\n",
      "2 Actual is  [0. 1.] Predicted is 0\n",
      "3 Actual is  [0. 1.] Predicted is 1\n",
      "4 Actual is  [1. 0.] Predicted is 1\n",
      "5 Actual is  [1. 0.] Predicted is 0\n",
      "6 Actual is  [0. 1.] Predicted is 1\n",
      "7 Actual is  [1. 0.] Predicted is 1\n",
      "8 Actual is  [0. 1.] Predicted is 1\n",
      "9 Actual is  [1. 0.] Predicted is 1\n",
      "10 Actual is  [0. 1.] Predicted is 1\n"
     ]
    }
   ],
   "source": [
    "%matplotlib inline\n",
    "for i in range(10):\n",
    "    pred = model.predict(xtest[i].reshape(1, 100, 100, 1))\n",
    "    print(\"\"+str(i+1)+\" Actual is \"+ \" \" + str(ytest[i])+\" Predicted is \"+str(pred.argmax()))"
   ]
  },
  {
   "cell_type": "markdown",
   "id": "ce3013a1",
   "metadata": {},
   "source": [
    "# Accuracy, precision, recall ,f1 score"
   ]
  },
  {
   "cell_type": "code",
   "execution_count": 69,
   "id": "a4057a21",
   "metadata": {},
   "outputs": [
    {
     "name": "stdout",
     "output_type": "stream",
     "text": [
      "Accuracy: 0.604096\n",
      "Precision: 0.561321\n",
      "Recall: 0.838028\n",
      "F1 score: 0.672316\n"
     ]
    }
   ],
   "source": [
    "from sklearn.metrics import accuracy_score\n",
    "from sklearn.metrics import precision_score\n",
    "from sklearn.metrics import recall_score\n",
    "from sklearn.metrics import f1_score\n",
    "\n",
    "accuracy = accuracy_score(ytest1,y_pred)\n",
    "print('Accuracy: %f' % accuracy)\n",
    "\n",
    "precision = precision_score(ytest1,y_pred)\n",
    "print('Precision: %f' % precision)\n",
    "\n",
    "recall = recall_score(ytest1,y_pred)\n",
    "print('Recall: %f' % recall)\n",
    "\n",
    "f1 = f1_score(ytest1,y_pred)\n",
    "print('F1 score: %f' % f1)"
   ]
  },
  {
   "cell_type": "markdown",
   "id": "a57ec736",
   "metadata": {},
   "source": [
    "# confusion matrix"
   ]
  },
  {
   "cell_type": "code",
   "execution_count": 70,
   "id": "a402fc55",
   "metadata": {},
   "outputs": [
    {
     "name": "stdout",
     "output_type": "stream",
     "text": [
      "confusion matrix : \n",
      " [[116 186]\n",
      " [ 46 238]]\n"
     ]
    }
   ],
   "source": [
    "\n",
    "from sklearn.metrics import confusion_matrix,classification_report\n",
    "ytest1 = np.argmax(np.array(ytest), axis=1)\n",
    "predictions = model.predict(xtest)\n",
    "y_pred = np.argmax(predictions, axis=1)\n",
    "\n",
    "cm=confusion_matrix(ytest1,y_pred)\n",
    "print(\"confusion matrix : \\n\" ,cm)\n"
   ]
  },
  {
   "cell_type": "code",
   "execution_count": null,
   "id": "009b50f4",
   "metadata": {},
   "outputs": [],
   "source": []
  },
  {
   "cell_type": "code",
   "execution_count": null,
   "id": "f5b8229a",
   "metadata": {},
   "outputs": [],
   "source": []
  },
  {
   "cell_type": "code",
   "execution_count": null,
   "id": "b4cc3f4c",
   "metadata": {},
   "outputs": [],
   "source": []
  }
 ],
 "metadata": {
  "kernelspec": {
   "display_name": "Python 3",
   "language": "python",
   "name": "python3"
  },
  "language_info": {
   "codemirror_mode": {
    "name": "ipython",
    "version": 3
   },
   "file_extension": ".py",
   "mimetype": "text/x-python",
   "name": "python",
   "nbconvert_exporter": "python",
   "pygments_lexer": "ipython3",
   "version": "3.8.5"
  }
 },
 "nbformat": 4,
 "nbformat_minor": 5
}
